{
  "nbformat": 4,
  "nbformat_minor": 0,
  "metadata": {
    "colab": {
      "provenance": [],
      "authorship_tag": "ABX9TyPCxiwFM1cSIg4FCP5AlxrU",
      "include_colab_link": true
    },
    "kernelspec": {
      "name": "python3",
      "display_name": "Python 3"
    },
    "language_info": {
      "name": "python"
    }
  },
  "cells": [
    {
      "cell_type": "markdown",
      "metadata": {
        "id": "view-in-github",
        "colab_type": "text"
      },
      "source": [
        "<a href=\"https://colab.research.google.com/github/manuMN402/1BM22AI402-OOP/blob/main/p2.ipynb\" target=\"_parent\"><img src=\"https://colab.research.google.com/assets/colab-badge.svg\" alt=\"Open In Colab\"/></a>"
      ]
    },
    {
      "cell_type": "markdown",
      "source": [],
      "metadata": {
        "id": "kGYNBFlQSZ7p"
      }
    },
    {
      "cell_type": "markdown",
      "source": [
        "#Define a class called Songs, it will show the lyrics of a song.\n",
        "Its __init__() method should have two arguments:self and lyrics.lyricsis a list.\n",
        "Inside your class create a method called sing_me_a_song that prints each\n",
        "element of lyrics on his own line. Define a varible:\n",
        "happy_bday = Song([\"May god bless you, \",\n",
        "\"Have a sunshine on you,\",\n",
        "\"Happy Birthday to you !\"])\n",
        "Call the sing_me_songmehod on this variable."
      ],
      "metadata": {
        "id": "H9oSfdyCSoNb"
      }
    },
    {
      "cell_type": "code",
      "source": [
        "class Songs:\n",
        "    def __init__(self, lyrics):\n",
        "        self.lyrics = lyrics\n",
        "\n",
        "    def sing_me_a_song(self):\n",
        "        for line in self.lyrics:\n",
        "            print(line)\n",
        "\n",
        "\n",
        "happy_bday_lyrics = [\n",
        "    \"May god bless you,\",\n",
        "    \"Have a sunshine on you,\",\n",
        "    \"Happy Birthday to you !\"\n",
        "]\n",
        "\n",
        "happy_bday = Songs(happy_bday_lyrics)\n",
        "\n",
        "\n",
        "happy_bday.sing_me_a_song()\n"
      ],
      "metadata": {
        "colab": {
          "base_uri": "https://localhost:8080/"
        },
        "id": "FVxCtMWWRuSg",
        "outputId": "9c93f202-e4c9-4c60-dfa3-ad5224954f6f"
      },
      "execution_count": 10,
      "outputs": [
        {
          "output_type": "stream",
          "name": "stdout",
          "text": [
            "May god bless you,\n",
            "Have a sunshine on you,\n",
            "Happy Birthday to you !\n"
          ]
        }
      ]
    },
    {
      "cell_type": "markdown",
      "source": [],
      "metadata": {
        "id": "AL-WilzwTB5G"
      }
    },
    {
      "cell_type": "markdown",
      "source": [
        "#Create a class called dog having following features:\n",
        "Class Dog\n",
        "Attributes:\n",
        "• Name\n",
        "• size\n",
        "• Breed Default: ‘Unknown’\n",
        "• Date of birth in DD/MM/YYYY format Default: ‘Unknown’\n",
        "Methods:\n",
        "• Bark\n",
        "o This should get the dog to bark (print out the word ‘woof!’)\n",
        "• get_name\n",
        "o This should return the dog’s name\n",
        "• set_name\n",
        "o This should allow the user to set an alphabetical name between 2 and\n",
        "30 characters.\n",
        "o Convert the name to title case before setting\n",
        "• dog_years\n",
        "This should calculate a dog’s age in dog years (use 1 year = 7 dog years)"
      ],
      "metadata": {
        "id": "FXZaAWqNTlEj"
      }
    },
    {
      "cell_type": "code",
      "source": [
        "class Dog:\n",
        "    def __init__(self, name, size, breed='Unknown', dob='Unknown'):\n",
        "        self.set_name(name)\n",
        "        self.size = size\n",
        "        self.breed = breed\n",
        "        self.dob = dob\n",
        "\n",
        "    def bark(self):\n",
        "        print('Woof!')\n",
        "\n",
        "    def get_name(self):\n",
        "        return self.name\n",
        "\n",
        "    def set_name(self, name):\n",
        "\n",
        "        if 2 <= len(name) <= 30 and name.isalpha():\n",
        "            self.name = name.title()\n",
        "        else:\n",
        "            print(\"Invalid name. Please provide a name between 2 and 30 alphabetical characters.\")\n",
        "\n",
        "    def dog_years(self):\n",
        "        return 7 * (2023 - int(self.dob[-4:]))\n",
        "\n",
        "\n",
        "my_dog = Dog(name='Buddy', size='Medium', breed='Labrador', dob='01/01/2010')\n",
        "\n",
        "\n",
        "print(f\"Name: {my_dog.get_name()}\")\n",
        "print(f\"Size: {my_dog.size}\")\n",
        "print(f\"Breed: {my_dog.breed}\")\n",
        "print(f\"Date of Birth: {my_dog.dob}\")\n",
        "\n",
        "\n",
        "my_dog.bark()\n",
        "\n",
        "\n",
        "print(f\"Dog years: {my_dog.dog_years()}\")\n"
      ],
      "metadata": {
        "colab": {
          "base_uri": "https://localhost:8080/"
        },
        "id": "fg_biOa9TDZI",
        "outputId": "9c8a3f3d-59b7-4d99-a7d6-ffb0306267cf"
      },
      "execution_count": 11,
      "outputs": [
        {
          "output_type": "stream",
          "name": "stdout",
          "text": [
            "Name: Buddy\n",
            "Size: Medium\n",
            "Breed: Labrador\n",
            "Date of Birth: 01/01/2010\n",
            "Woof!\n",
            "Dog years: 91\n"
          ]
        }
      ]
    }
  ]
}