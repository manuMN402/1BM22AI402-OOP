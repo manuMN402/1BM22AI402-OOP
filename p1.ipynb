{
  "nbformat": 4,
  "nbformat_minor": 0,
  "metadata": {
    "colab": {
      "provenance": [],
      "authorship_tag": "ABX9TyMTShWl+5IH+4IcggcaBl1g",
      "include_colab_link": true
    },
    "kernelspec": {
      "name": "python3",
      "display_name": "Python 3"
    },
    "language_info": {
      "name": "python"
    }
  },
  "cells": [
    {
      "cell_type": "markdown",
      "metadata": {
        "id": "view-in-github",
        "colab_type": "text"
      },
      "source": [
        "<a href=\"https://colab.research.google.com/github/manuMN402/1BM22AI402-OOP/blob/main/p1.ipynb\" target=\"_parent\"><img src=\"https://colab.research.google.com/assets/colab-badge.svg\" alt=\"Open In Colab\"/></a>"
      ]
    },
    {
      "cell_type": "markdown",
      "source": [
        "# 1A) write a Python program to create two empty classes, Student and Marks\n",
        "#Now create some instances and check whether they are instances of the\n",
        "#said classes or not Also, check whether the said classes are subclasses of\n",
        "#the built-in object class or not"
      ],
      "metadata": {
        "id": "RaF_e-u2HU_I"
      }
    },
    {
      "cell_type": "code",
      "source": [
        "\n",
        "class Student:\n",
        "    def __init__(self, name, roll_number):\n",
        "        self.name = name\n",
        "        self.roll_number = roll_number\n",
        "\n",
        "class Marks:\n",
        "    def __init__(self, subject, score):\n",
        "        self.subject = subject\n",
        "        self.score = score\n",
        "\n",
        "\n",
        "student_instance = Student(name=\"John Doe\", roll_number=\"12345\")\n",
        "marks_instance = Marks(subject=\"Math\", score=95)\n",
        "\n",
        "\n",
        "is_student_instance = isinstance(student_instance, Student)\n",
        "is_marks_instance = isinstance(marks_instance, Marks)\n",
        "\n",
        "\n",
        "is_student_subclass = issubclass(Student, object)\n",
        "is_marks_subclass = issubclass(Marks, object)\n",
        "\n",
        "\n",
        "print(f\"Is student_instance an instance of Student? {is_student_instance}\")\n",
        "print(f\"Is marks_instance an instance of Marks? {is_marks_instance}\")\n",
        "print(f\"Is Student a subclass of object? {is_student_subclass}\")\n",
        "print(f\"Is Marks a subclass of object? {is_marks_subclass}\")\n",
        "\n",
        "\n",
        "print(f\"Student Name: {student_instance.name}, Roll Number: {student_instance.roll_number}\")\n",
        "print(f\"Marks Subject: {marks_instance.subject}, Score: {marks_instance.score}\")\n"
      ],
      "metadata": {
        "colab": {
          "base_uri": "https://localhost:8080/"
        },
        "id": "fJaV3CUWDu-F",
        "outputId": "7b40a8ad-28d2-4911-d33a-3b573df178b7"
      },
      "execution_count": null,
      "outputs": [
        {
          "output_type": "stream",
          "name": "stdout",
          "text": [
            "Is student_instance an instance of Student? True\n",
            "Is marks_instance an instance of Marks? True\n",
            "Is Student a subclass of object? True\n",
            "Is Marks a subclass of object? True\n",
            "Student Name: John Doe, Roll Number: 12345\n",
            "Marks Subject: Math, Score: 95\n"
          ]
        }
      ]
    },
    {
      "cell_type": "markdown",
      "source": [],
      "metadata": {
        "id": "v_PxcUBiN1L9"
      }
    },
    {
      "cell_type": "markdown",
      "source": [],
      "metadata": {
        "id": "YpvEzS4fHSnR"
      }
    },
    {
      "cell_type": "markdown",
      "source": [
        "# 1B) perform addition of two complex numbers using class COMPLEX.\n",
        "#COMPLEX has two class variables real_part and img_part. Constructors\n",
        "#assigns values for the respective variables. Create three"
      ],
      "metadata": {
        "id": "aXXKfkg6NYj-"
      }
    },
    {
      "cell_type": "code",
      "source": [
        "class COMPLEX:\n",
        "\n",
        "    real_part = 0\n",
        "    img_part = 0\n",
        "\n",
        "\n",
        "    def __init__(self, real, img):\n",
        "        self.real_part = real\n",
        "        self.img_part = img\n",
        "\n",
        "\n",
        "    def add_complex(self, other):\n",
        "        result = COMPLEX(0, 0)\n",
        "        result.real_part = self.real_part + other.real_part\n",
        "        result.img_part = self.img_part + other.img_part\n",
        "        return result\n",
        "\n",
        "\n",
        "C1 = COMPLEX(3, 4)\n",
        "C2 = COMPLEX(1, 2)\n",
        "C3 = C1.add_complex(C2)\n",
        "\n",
        "\n",
        "print(f\"C1: {C1.real_part} + {C1.img_part}j\")\n",
        "print(f\"C2: {C2.real_part} + {C2.img_part}j\")\n",
        "print(f\"C1 + C2 = C3: {C3.real_part} + {C3.img_part}j\")\n"
      ],
      "metadata": {
        "colab": {
          "base_uri": "https://localhost:8080/"
        },
        "id": "Om4uy1USIOvX",
        "outputId": "9c06f06e-5c73-4c5e-d9f7-b2352d1eb229"
      },
      "execution_count": null,
      "outputs": [
        {
          "output_type": "stream",
          "name": "stdout",
          "text": [
            "C1: 3 + 4j\n",
            "C2: 1 + 2j\n",
            "C1 + C2 = C3: 4 + 6j\n"
          ]
        }
      ]
    },
    {
      "cell_type": "code",
      "source": [],
      "metadata": {
        "id": "kSqaDUN8PAE_"
      },
      "execution_count": null,
      "outputs": []
    }
  ]
}